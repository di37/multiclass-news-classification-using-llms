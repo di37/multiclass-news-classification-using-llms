{
 "cells": [
  {
   "cell_type": "markdown",
   "metadata": {},
   "source": [
    "### Changing to the main directory"
   ]
  },
  {
   "cell_type": "code",
   "execution_count": 1,
   "metadata": {},
   "outputs": [
    {
     "name": "stdout",
     "output_type": "stream",
     "text": [
      "/home/isham/Desktop/machine-learning-projects/text-classification/few-shot-prompting-text-classification\n"
     ]
    },
    {
     "name": "stderr",
     "output_type": "stream",
     "text": [
      "/home/isham/anaconda3/envs/text-classification-using-llm/lib/python3.11/site-packages/IPython/core/magics/osm.py:417: UserWarning: This is now an optional IPython functionality, setting dhist requires you to install the `pickleshare` library.\n",
      "  self.shell.db['dhist'] = compress_dhist(dhist)[-100:]\n"
     ]
    }
   ],
   "source": [
    "%cd .."
   ]
  },
  {
   "cell_type": "markdown",
   "metadata": {},
   "source": [
    "### Import Necessary Libraries"
   ]
  },
  {
   "cell_type": "code",
   "execution_count": 2,
   "metadata": {},
   "outputs": [],
   "source": [
    "import pandas as pd\n",
    "from utils import combine_dataframes, compute_multiclass_metrics, extract_word, get_most_common_word"
   ]
  },
  {
   "cell_type": "code",
   "execution_count": 3,
   "metadata": {},
   "outputs": [],
   "source": [
    "# df = pd.read_csv('data/news_category_classification/test-examples_1.csv')\n",
    "multiple_csvs = [pd.read_csv(f'data/news_category_classification/test-examples_{i+1}.csv') for i in range(10)]"
   ]
  },
  {
   "cell_type": "code",
   "execution_count": 4,
   "metadata": {},
   "outputs": [],
   "source": [
    "combined_df = combine_dataframes(multiple_csvs)\n",
    "combined_df.reset_index(drop=True, inplace=True)"
   ]
  },
  {
   "cell_type": "code",
   "execution_count": 5,
   "metadata": {},
   "outputs": [
    {
     "name": "stdout",
     "output_type": "stream",
     "text": [
      "<class 'pandas.core.frame.DataFrame'>\n",
      "RangeIndex: 500 entries, 0 to 499\n",
      "Data columns (total 6 columns):\n",
      " #   Column                            Non-Null Count  Dtype \n",
      "---  ------                            --------------  ----- \n",
      " 0   category                          500 non-null    object\n",
      " 1   text                              500 non-null    object\n",
      " 2   predicted_category_llama3         500 non-null    object\n",
      " 3   predicted_category_llama3:70b     500 non-null    object\n",
      " 4   predicted_category_mixtral        500 non-null    object\n",
      " 5   predicted_category_gpt-3.5-turbo  500 non-null    object\n",
      "dtypes: object(6)\n",
      "memory usage: 23.6+ KB\n"
     ]
    }
   ],
   "source": [
    "combined_df.info()"
   ]
  },
  {
   "cell_type": "code",
   "execution_count": 6,
   "metadata": {},
   "outputs": [
    {
     "data": {
      "text/plain": [
       "category                            0\n",
       "text                                0\n",
       "predicted_category_llama3           0\n",
       "predicted_category_llama3:70b       0\n",
       "predicted_category_mixtral          0\n",
       "predicted_category_gpt-3.5-turbo    0\n",
       "dtype: int64"
      ]
     },
     "execution_count": 6,
     "metadata": {},
     "output_type": "execute_result"
    }
   ],
   "source": [
    "combined_df.isna().sum()"
   ]
  },
  {
   "cell_type": "markdown",
   "metadata": {},
   "source": [
    "Minor cleaning required for extracting the predicted category as per the investigation."
   ]
  },
  {
   "cell_type": "markdown",
   "metadata": {},
   "source": [
    "### Minor Data Cleaning"
   ]
  },
  {
   "cell_type": "markdown",
   "metadata": {},
   "source": [
    "As we could see from logs, we didnt get single output answer for many inferences. Instead of giving us one word, it was able to classify as per the list given but continued to give explanation though it was told to the model not to explain just to give one word answer. Therefore, for fair results, we need to do some minor clean to check whether the output is within one of the 5 categories or not."
   ]
  },
  {
   "cell_type": "markdown",
   "metadata": {},
   "source": [
    "#### `gpt-3.5-turbo`"
   ]
  },
  {
   "cell_type": "code",
   "execution_count": 7,
   "metadata": {},
   "outputs": [
    {
     "data": {
      "text/plain": [
       "predicted_category_gpt-3.5-turbo\n",
       "output: business         116\n",
       "output: sport            111\n",
       "output: politics         108\n",
       "output: entertainment     93\n",
       "output: tech              71\n",
       "output: health             1\n",
       "Name: count, dtype: int64"
      ]
     },
     "execution_count": 7,
     "metadata": {},
     "output_type": "execute_result"
    }
   ],
   "source": [
    "combined_df['predicted_category_gpt-3.5-turbo'].value_counts()"
   ]
  },
  {
   "cell_type": "code",
   "execution_count": 8,
   "metadata": {},
   "outputs": [
    {
     "data": {
      "text/plain": [
       "predicted_category_gpt-3.5-turbo\n",
       "business         116\n",
       "sport            111\n",
       "politics         108\n",
       "entertainment     93\n",
       "tech              71\n",
       "health             1\n",
       "Name: count, dtype: int64"
      ]
     },
     "execution_count": 8,
     "metadata": {},
     "output_type": "execute_result"
    }
   ],
   "source": [
    "combined_df['predicted_category_gpt-3.5-turbo'].apply(lambda text: text.replace(\"output: \", \"\")).str.strip().value_counts()"
   ]
  },
  {
   "cell_type": "code",
   "execution_count": 9,
   "metadata": {},
   "outputs": [],
   "source": [
    "combined_df['predicted_category_gpt-3.5-turbo'] = combined_df['predicted_category_gpt-3.5-turbo'].apply(lambda text: text.replace(\"output: \", \"\")).str.strip()"
   ]
  },
  {
   "cell_type": "code",
   "execution_count": 10,
   "metadata": {},
   "outputs": [
    {
     "data": {
      "text/plain": [
       "predicted_category_gpt-3.5-turbo\n",
       "business         116\n",
       "sport            111\n",
       "politics         108\n",
       "entertainment     93\n",
       "tech              71\n",
       "health             1\n",
       "Name: count, dtype: int64"
      ]
     },
     "execution_count": 10,
     "metadata": {},
     "output_type": "execute_result"
    }
   ],
   "source": [
    "combined_df['predicted_category_gpt-3.5-turbo'].value_counts()"
   ]
  },
  {
   "cell_type": "markdown",
   "metadata": {},
   "source": [
    "#### `llama3:8B`"
   ]
  },
  {
   "cell_type": "code",
   "execution_count": 11,
   "metadata": {},
   "outputs": [
    {
     "data": {
      "text/plain": [
       "predicted_category_llama3\n",
       "politics                                                                                                                                                                                                                                                                                                                                                                                                                                                                                                                                                                                                                                                                                                                                                                                                                                                                                                                                                                                                                                                                                                                                                                                                  129\n",
       "sport                                                                                                                                                                                                                                                                                                                                                                                                                                                                                                                                                                                                                                                                                                                                                                                                                                                                                                                                                                                                                                                                                                                                                                                                     112\n",
       "entertainment                                                                                                                                                                                                                                                                                                                                                                                                                                                                                                                                                                                                                                                                                                                                                                                                                                                                                                                                                                                                                                                                                                                                                                                             107\n",
       "business                                                                                                                                                                                                                                                                                                                                                                                                                                                                                                                                                                                                                                                                                                                                                                                                                                                                                                                                                                                                                                                                                                                                                                                                   98\n",
       "tech                                                                                                                                                                                                                                                                                                                                                                                                                                                                                                                                                                                                                                                                                                                                                                                                                                                                                                                                                                                                                                                                                                                                                                                                       50\n",
       "environment                                                                                                                                                                                                                                                                                                                                                                                                                                                                                                                                                                                                                                                                                                                                                                                                                                                                                                                                                                                                                                                                                                                                                                                                 2\n",
       "this text appears to be a rant or complaint about premium rate phone scams, where individuals are tricked into making expensive calls without realizing it. the author expresses frustration with the phone companies for not doing enough to prevent these scams and for charging customers for fraudulent transactions.\\n\\nthe main points made by the author include:\\n\\n* phone companies should take more responsibility for preventing these scams and refunding customers who have been victimized.\\n* customers need to be more aware of how to avoid falling prey to these scams, such as being cautious when downloading software or clicking on links.\\n* the phone companies are profiteering from these scams by charging customers for fraudulent transactions.\\n* the government should take action to prevent these scams and reimburse victims who have been charged unfairly.\\n\\nthe tone of the text is critical and frustrated, with the author expressing a sense of injustice at being charged for a scam that was not their fault.                                                                                                                                                   1\n",
       "this text appears to be a collection of articles, blog posts, or personal opinions about the impact of massively multiplayer online role-playing games (mmorpgs) on players' lives. the topics discussed include:\\n\\n1. addiction: many writers describe their own experiences with mmorpg addiction, including spending excessive amounts of time playing and neglecting other aspects of life.\\n2. social implications: some authors argue that mmorpgs can have negative social consequences, such as isolating players from real-life relationships and activities.\\n3. health concerns: a few writers express concern about the potential health risks associated with prolonged screen time and sedentary behavior.\\n4. personal struggles: several individuals share their personal stories of struggling to balance gaming with other aspects of life, including work, relationships, and physical activity.\\n\\nthe tone of the text is generally informal and conversational, with a mix of humor, self-deprecation, and concern. the writers' experiences and opinions are diverse, but they all seem to agree that mmorpgs can be addictive and have significant impacts on players' lives.      1\n",
       "Name: count, dtype: int64"
      ]
     },
     "execution_count": 11,
     "metadata": {},
     "output_type": "execute_result"
    }
   ],
   "source": [
    "combined_df['predicted_category_llama3'].value_counts()"
   ]
  },
  {
   "cell_type": "markdown",
   "metadata": {},
   "source": [
    "#### `llama3:70b`"
   ]
  },
  {
   "cell_type": "code",
   "execution_count": 12,
   "metadata": {},
   "outputs": [
    {
     "data": {
      "text/plain": [
       "predicted_category_llama3:70b\n",
       "politics                                                                                                                                                                                                                                                                                                                                                                                                                                                                                                                                                                                                                                                                                                                                                                                                                                                                                                                                                             113\n",
       "sport                                                                                                                                                                                                                                                                                                                                                                                                                                                                                                                                                                                                                                                                                                                                                                                                                                                                                                                                                                112\n",
       "business                                                                                                                                                                                                                                                                                                                                                                                                                                                                                                                                                                                                                                                                                                                                                                                                                                                                                                                                                             110\n",
       "entertainment                                                                                                                                                                                                                                                                                                                                                                                                                                                                                                                                                                                                                                                                                                                                                                                                                                                                                                                                                         95\n",
       "tech                                                                                                                                                                                                                                                                                                                                                                                                                                                                                                                                                                                                                                                                                                                                                                                                                                                                                                                                                                  68\n",
       "i would classify this article as \"technology/computing\" with a subcategory of \"scams/fraud\".\\n\\nthe article discusses the issue of rogue diallers, which are malicious software that can be downloaded onto a user's computer, allowing scammers to make unauthorized calls to premium rate numbers and charge the user for them. the article argues that while phone companies have some responsibility in preventing these scams, ultimately it is up to the individual user to take steps to protect themselves, such as using firewall software and anti-virus programs, and being cautious when downloading files from unknown sources.\\n\\nthe article also mentions that some phone companies are taking steps to prevent these scams, such as offering free applications to block premium rate numbers, and suggests that users should take responsibility for their own security by keeping their software up to date and being aware of potential scams.      1\n",
       "i would classify this news article into the category \"gaming addiction\" or \"online gaming concerns\". the article features various personal anecdotes and opinions from individuals who have experienced addiction to online gaming, particularly massively multiplayer online role-playing games (mmorpgs). they share their struggles with balancing gaming time with real-life responsibilities, relationships, and social interactions. some express concerns about the potential negative impacts of excessive gaming on mental and physical health, while others argue that moderation is key and that online gaming can be a harmless recreational activity when done in balance.                                                                                                                                                                                                                                                                                1\n",
       "Name: count, dtype: int64"
      ]
     },
     "execution_count": 12,
     "metadata": {},
     "output_type": "execute_result"
    }
   ],
   "source": [
    "combined_df['predicted_category_llama3:70b'].value_counts()"
   ]
  },
  {
   "cell_type": "code",
   "execution_count": 13,
   "metadata": {},
   "outputs": [],
   "source": [
    "import re \n",
    "def find_first_occurrence(text):\n",
    "    keywords = {\n",
    "        'tech': ['tech', 'technology'],\n",
    "        'business': ['business'],\n",
    "        'politics': ['politics'],\n",
    "        'entertainment': ['entertainment'],\n",
    "        'sport': ['sport']\n",
    "    }\n",
    "    \n",
    "    text = text.lower()\n",
    "    \n",
    "    for category, synonyms in keywords.items():\n",
    "        pattern = r'\\b(?:' + '|'.join(synonyms) + r')\\b'\n",
    "        match = re.search(pattern, text)\n",
    "        if match:\n",
    "            return category\n",
    "    \n",
    "    return text"
   ]
  },
  {
   "cell_type": "code",
   "execution_count": 14,
   "metadata": {},
   "outputs": [
    {
     "data": {
      "text/plain": [
       "predicted_category_llama3:70b\n",
       "politics                                                                                                                                                                                                                                                                                                                                                                                                                                                                                                                                                                                                                                                                                   113\n",
       "sport                                                                                                                                                                                                                                                                                                                                                                                                                                                                                                                                                                                                                                                                                      112\n",
       "business                                                                                                                                                                                                                                                                                                                                                                                                                                                                                                                                                                                                                                                                                   110\n",
       "entertainment                                                                                                                                                                                                                                                                                                                                                                                                                                                                                                                                                                                                                                                                               95\n",
       "tech                                                                                                                                                                                                                                                                                                                                                                                                                                                                                                                                                                                                                                                                                        69\n",
       "i would classify this news article into the category \"gaming addiction\" or \"online gaming concerns\". the article features various personal anecdotes and opinions from individuals who have experienced addiction to online gaming, particularly massively multiplayer online role-playing games (mmorpgs). they share their struggles with balancing gaming time with real-life responsibilities, relationships, and social interactions. some express concerns about the potential negative impacts of excessive gaming on mental and physical health, while others argue that moderation is key and that online gaming can be a harmless recreational activity when done in balance.      1\n",
       "Name: count, dtype: int64"
      ]
     },
     "execution_count": 14,
     "metadata": {},
     "output_type": "execute_result"
    }
   ],
   "source": [
    "combined_df['predicted_category_llama3:70b'].apply(find_first_occurrence).value_counts()"
   ]
  },
  {
   "cell_type": "code",
   "execution_count": 15,
   "metadata": {},
   "outputs": [],
   "source": [
    "combined_df['predicted_category_llama3:70b'] = combined_df['predicted_category_llama3:70b'].apply(find_first_occurrence)"
   ]
  },
  {
   "cell_type": "markdown",
   "metadata": {},
   "source": [
    "#### `mixtral:8x7B`"
   ]
  },
  {
   "cell_type": "code",
   "execution_count": 16,
   "metadata": {},
   "outputs": [
    {
     "data": {
      "text/plain": [
       "predicted_category_mixtral\n",
       "sport                                                                                                                                                                                                                                                                                                                                                                                                                                                                                                                                                                                                                                                                                                                                                                                                                                                                                                                                                                                                                                                                                                                                                                                                                                                                                                                                                                                                                                                                                                                                                                                                                                                                                                     131\n",
       "politics                                                                                                                                                                                                                                                                                                                                                                                                                                                                                                                                                                                                                                                                                                                                                                                                                                                                                                                                                                                                                                                                                                                                                                                                                                                                                                                                                                                                                                                                                                                                                                                                                                                                                                   97\n",
       "business                                                                                                                                                                                                                                                                                                                                                                                                                                                                                                                                                                                                                                                                                                                                                                                                                                                                                                                                                                                                                                                                                                                                                                                                                                                                                                                                                                                                                                                                                                                                                                                                                                                                                                   95\n",
       "entertainment                                                                                                                                                                                                                                                                                                                                                                                                                                                                                                                                                                                                                                                                                                                                                                                                                                                                                                                                                                                                                                                                                                                                                                                                                                                                                                                                                                                                                                                                                                                                                                                                                                                                                              77\n",
       "tech                                                                                                                                                                                                                                                                                                                                                                                                                                                                                                                                                                                                                                                                                                                                                                                                                                                                                                                                                                                                                                                                                                                                                                                                                                                                                                                                                                                                                                                                                                                                                                                                                                                                                                       46\n",
       "sport, tech, business, entertainment, or politics.\\n\\noutput: entertainment                                                                                                                                                                                                                                                                                                                                                                                                                                                                                                                                                                                                                                                                                                                                                                                                                                                                                                                                                                                                                                                                                                                                                                                                                                                                                                                                                                                                                                                                                                                                                                                                                                 2\n",
       "sport, tech, business, entertainment, or politics: **tech**                                                                                                                                                                                                                                                                                                                                                                                                                                                                                                                                                                                                                                                                                                                                                                                                                                                                                                                                                                                                                                                                                                                                                                                                                                                                                                                                                                                                                                                                                                                                                                                                                                                 2\n",
       "the text can be classified as \"politics\" since it discusses actions taken by the welsh health minister and reactions to those actions from various political figures in wales.                                                                                                                                                                                                                                                                                                                                                                                                                                                                                                                                                                                                                                                                                                                                                                                                                                                                                                                                                                                                                                                                                                                                                                                                                                                                                                                                                                                                                                                                                                                              1\n",
       "the text should be classified as \"tech\" and \"sport\". i can provide more information about why it falls into these categories if needed.                                                                                                                                                                                                                                                                                                                                                                                                                                                                                                                                                                                                                                                                                                                                                                                                                                                                                                                                                                                                                                                                                                                                                                                                                                                                                                                                                                                                                                                                                                                                                                     1\n",
       "the text should be classified as \"sport\".                                                                                                                                                                                                                                                                                                                                                                                                                                                                                                                                                                                                                                                                                                                                                                                                                                                                                                                                                                                                                                                                                                                                                                                                                                                                                                                                                                                                                                                                                                                                                                                                                                                                   1\n",
       "the text can be classified as \"politics\" since it discusses a policy decision made by the scottish government regarding smoking in public places, and includes statements from politicians and political parties about the issue.                                                                                                                                                                                                                                                                                                                                                                                                                                                                                                                                                                                                                                                                                                                                                                                                                                                                                                                                                                                                                                                                                                                                                                                                                                                                                                                                                                                                                                                                           1\n",
       "culture or art, which is a subcategory of entertainment. i chose entertainment because cultural attractions and events are often included in this category, but i understand if someone might argue for arts & culture or another designation.                                                                                                                                                                                                                                                                                                                                                                                                                                                                                                                                                                                                                                                                                                                                                                                                                                                                                                                                                                                                                                                                                                                                                                                                                                                                                                                                                                                                                                                              1\n",
       "the text would be classified as \"politics\" because it discusses issues related to international trade policies, subsidies, and their impact on farmers' livelihoods, which are all topics that fall under the political category.                                                                                                                                                                                                                                                                                                                                                                                                                                                                                                                                                                                                                                                                                                                                                                                                                                                                                                                                                                                                                                                                                                                                                                                                                                                                                                                                                                                                                                                                           1\n",
       "sport, tech, business, entertainment, or politics.: sport\\n\\nexplanation: the text is about the release of a video game, halo 2, but it also mentions its impact on the sales of xbox consoles. therefore, it can be classified as both tech and business. however, since the main focus of the text is on the game itself and its anticipated release, i would classify it as entertainment.                                                                                                                                                                                                                                                                                                                                                                                                                                                                                                                                                                                                                                                                                                                                                                                                                                                                                                                                                                                                                                                                                                                                                                                                                                                                                                               1\n",
       "sport\\n\\nconfidence: 95%                                                                                                                                                                                                                                                                                                                                                                                                                                                                                                                                                                                                                                                                                                                                                                                                                                                                                                                                                                                                                                                                                                                                                                                                                                                                                                                                                                                                                                                                                                                                                                                                                                                                                    1\n",
       "sport\\n\\nexplanation:\\n\\nthe text is classified as \"sport\" because none of the other categories (tech, business, entertainment, politics) accurately describe its content. the text discusses ronnie corbett's criticism of modern television programs, but it does not contain any significant information about technology, business, entertainment, or politics. therefore, the most appropriate category for this text is \"sport.\" however, since none of the categories fit, it suggests that the prompt may need to be revised to include a catch-all option for miscellaneous topics.                                                                                                                                                                                                                                                                                                                                                                                                                                                                                                                                                                                                                                                                                                                                                                                                                                                                                                                                                                                                                                                                                                                1\n",
       "sport, tech, business, entertainment, or politics: entertainment                                                                                                                                                                                                                                                                                                                                                                                                                                                                                                                                                                                                                                                                                                                                                                                                                                                                                                                                                                                                                                                                                                                                                                                                                                                                                                                                                                                                                                                                                                                                                                                                                                            1\n",
       "the text would be classified under \"tech\" since it discusses software patents, linux, ibm, microsoft, and open-source principles, all of which are technology-related topics.                                                                                                                                                                                                                                                                                                                                                                                                                                                                                                                                                                                                                                                                                                                                                                                                                                                                                                                                                                                                                                                                                                                                                                                                                                                                                                                                                                                                                                                                                                                               1\n",
       "the text should be classified as \"politics\" because it involves a legal case related to freedom of the press, which is a political issue.                                                                                                                                                                                                                                                                                                                                                                                                                                                                                                                                                                                                                                                                                                                                                                                                                                                                                                                                                                                                                                                                                                                                                                                                                                                                                                                                                                                                                                                                                                                                                                   1\n",
       "the text can be classified as \"business\" since it discusses the operations and performance of call centers, including issues related to customer satisfaction, training, and outsourcing.                                                                                                                                                                                                                                                                                                                                                                                                                                                                                                                                                                                                                                                                                                                                                                                                                                                                                                                                                                                                                                                                                                                                                                                                                                                                                                                                                                                                                                                                                                                   1\n",
       "the text should be classified as \"business.\" it discusses consumer confidence and economic indicators, which are topics related to business and the economy.                                                                                                                                                                                                                                                                                                                                                                                                                                                                                                                                                                                                                                                                                                                                                                                                                                                                                                                                                                                                                                                                                                                                                                                                                                                                                                                                                                                                                                                                                                                                                1\n",
       "sport\\n\\nthe text is about a video game, but it's classified under \"sport\" because the game involves shooting and fighting, similar to sports such as boxing or martial arts. the text highlights the game's difficulty level, the variety of weapons available, and the old-school style of gameplay, all of which are common themes in sports games.                                                                                                                                                                                                                                                                                                                                                                                                                                                                                                                                                                                                                                                                                                                                                                                                                                                                                                                                                                                                                                                                                                                                                                                                                                                                                                                                                      1\n",
       "the text can be classified as \"politics\" because it discusses a report about the government's efforts to improve adult literacy and numeracy skills, including comments from politicians and government officials.                                                                                                                                                                                                                                                                                                                                                                                                                                                                                                                                                                                                                                                                                                                                                                                                                                                                                                                                                                                                                                                                                                                                                                                                                                                                                                                                                                                                                                                                                          1\n",
       "sport\\n\\nthe text is about the competition in the tech industry, specifically between nokia, microsoft, sony ericsson, and motorola, to provide music on handsets and potentially replace mp3 players like the ipod. the text discusses the challenges of delivering music on mobile phones and the potential for mobile phones to become the primary device for music downloading in the future. therefore, the correct category is tech.                                                                                                                                                                                                                                                                                                                                                                                                                                                                                                                                                                                                                                                                                                                                                                                                                                                                                                                                                                                                                                                                                                                                                                                                                                                                  1\n",
       "the text is about the sundance film festival, which is an event in the entertainment industry. therefore, the correct category for this text is entertainment.                                                                                                                                                                                                                                                                                                                                                                                                                                                                                                                                                                                                                                                                                                                                                                                                                                                                                                                                                                                                                                                                                                                                                                                                                                                                                                                                                                                                                                                                                                                                              1\n",
       "sport, tech, business, entertainment, or politics: tech                                                                                                                                                                                                                                                                                                                                                                                                                                                                                                                                                                                                                                                                                                                                                                                                                                                                                                                                                                                                                                                                                                                                                                                                                                                                                                                                                                                                                                                                                                                                                                                                                                                     1\n",
       "the text should be classified as \"entertainment\" because it is about the death of jef raskin, who was a significant figure in the creation of the first apple macintosh computer. while technology is certainly discussed, the primary focus of the article is on raskin's life and career, making entertainment the most appropriate category.                                                                                                                                                                                                                                                                                                                                                                                                                                                                                                                                                                                                                                                                                                                                                                                                                                                                                                                                                                                                                                                                                                                                                                                                                                                                                                                                                             1\n",
       "environment                                                                                                                                                                                                                                                                                                                                                                                                                                                                                                                                                                                                                                                                                                                                                                                                                                                                                                                                                                                                                                                                                                                                                                                                                                                                                                                                                                                                                                                                                                                                                                                                                                                                                                 1\n",
       "the text should be classified as \"business\" since it discusses an employment issue related to delta airlines, a business organization.                                                                                                                                                                                                                                                                                                                                                                                                                                                                                                                                                                                                                                                                                                                                                                                                                                                                                                                                                                                                                                                                                                                                                                                                                                                                                                                                                                                                                                                                                                                                                                      1\n",
       "sport, tech, entertainment, business                                                                                                                                                                                                                                                                                                                                                                                                                                                                                                                                                                                                                                                                                                                                                                                                                                                                                                                                                                                                                                                                                                                                                                                                                                                                                                                                                                                                                                                                                                                                                                                                                                                                        1\n",
       "sport, tech, business, entertainment, or politics.\\n\\noutput: tech                                                                                                                                                                                                                                                                                                                                                                                                                                                                                                                                                                                                                                                                                                                                                                                                                                                                                                                                                                                                                                                                                                                                                                                                                                                                                                                                                                                                                                                                                                                                                                                                                                          1\n",
       "the text would be classified under the category \"politics\" as it relates to the appointment of a government official, their role, responsibilities, and background.                                                                                                                                                                                                                                                                                                                                                                                                                                                                                                                                                                                                                                                                                                                                                                                                                                                                                                                                                                                                                                                                                                                                                                                                                                                                                                                                                                                                                                                                                                                                         1\n",
       "the text should be classified as \"tech\" because it discusses the use of wireless internet and digital technology at the wolong nature reserve in china to aid in panda conservation efforts.                                                                                                                                                                                                                                                                                                                                                                                                                                                                                                                                                                                                                                                                                                                                                                                                                                                                                                                                                                                                                                                                                                                                                                                                                                                                                                                                                                                                                                                                                                                1\n",
       "many people have fallen victim to rogue diallers, which are premium rate numbers that connect to the user's computer without their knowledge and run up large bills. this issue has become more common with the rise of illegal music and software download sites. while some people have been able to get their phone companies to refund them, others have not been so lucky. there are steps that users can take to protect themselves, such as using firewall and anti-virus software, and being cautious about the websites they visit. the government has ordered a review of premium rate services and is likely to give icstis, the regulatory body, more power to deal with rogue diallers in the future.                                                                                                                                                                                                                                                                                                                                                                                                                                                                                                                                                                                                                                                                                                                                                                                                                                                                                                                                                                                          1\n",
       "sport, tech, business, entertainment, or politics.\\n\\noutput: the text should be classified as \"business\".                                                                                                                                                                                                                                                                                                                                                                                                                                                                                                                                                                                                                                                                                                                                                                                                                                                                                                                                                                                                                                                                                                                                                                                                                                                                                                                                                                                                                                                                                                                                                                                                  1\n",
       "the text should be classified as \"business\" because it discusses a government initiative to boost cocoa production, which is related to agriculture and commerce.                                                                                                                                                                                                                                                                                                                                                                                                                                                                                                                                                                                                                                                                                                                                                                                                                                                                                                                                                                                                                                                                                                                                                                                                                                                                                                                                                                                                                                                                                                                                           1\n",
       "the text should be classified as \"tech\" since it discusses pc photo printers and their capabilities, comparing them to professional photo development options.                                                                                                                                                                                                                                                                                                                                                                                                                                                                                                                                                                                                                                                                                                                                                                                                                                                                                                                                                                                                                                                                                                                                                                                                                                                                                                                                                                                                                                                                                                                                              1\n",
       "the text should be classified under \"business\" because it discusses the economic impact of natural disasters on asian countries, including reconstruction costs, potential slowdowns in growth, and effects on various industries such as tourism, fishing, and real estate.                                                                                                                                                                                                                                                                                                                                                                                                                                                                                                                                                                                                                                                                                                                                                                                                                                                                                                                                                                                                                                                                                                                                                                                                                                                                                                                                                                                                                                1\n",
       "the text should be classified as \"entertainment\" since it discusses television shows and awards.                                                                                                                                                                                                                                                                                                                                                                                                                                                                                                                                                                                                                                                                                                                                                                                                                                                                                                                                                                                                                                                                                                                                                                                                                                                                                                                                                                                                                                                                                                                                                                                                            1\n",
       "the text should be classified as \"tech\" because it discusses the use of credit and debit cards, which are technologies that have revolutionized the way people make purchases.                                                                                                                                                                                                                                                                                                                                                                                                                                                                                                                                                                                                                                                                                                                                                                                                                                                                                                                                                                                                                                                                                                                                                                                                                                                                                                                                                                                                                                                                                                                              1\n",
       "sport, tech, entertainment                                                                                                                                                                                                                                                                                                                                                                                                                                                                                                                                                                                                                                                                                                                                                                                                                                                                                                                                                                                                                                                                                                                                                                                                                                                                                                                                                                                                                                                                                                                                                                                                                                                                                  1\n",
       "sport or entertainment                                                                                                                                                                                                                                                                                                                                                                                                                                                                                                                                                                                                                                                                                                                                                                                                                                                                                                                                                                                                                                                                                                                                                                                                                                                                                                                                                                                                                                                                                                                                                                                                                                                                                      1\n",
       "sport, tech, business, entertainment, or politics.\\n\\noutput: business                                                                                                                                                                                                                                                                                                                                                                                                                                                                                                                                                                                                                                                                                                                                                                                                                                                                                                                                                                                                                                                                                                                                                                                                                                                                                                                                                                                                                                                                                                                                                                                                                                      1\n",
       "the text can be classified as \"tech\" because it discusses spam traffic and e-mail management.                                                                                                                                                                                                                                                                                                                                                                                                                                                                                                                                                                                                                                                                                                                                                                                                                                                                                                                                                                                                                                                                                                                                                                                                                                                                                                                                                                                                                                                                                                                                                                                                               1\n",
       "the correct category for this text is \"entertainment\".                                                                                                                                                                                                                                                                                                                                                                                                                                                                                                                                                                                                                                                                                                                                                                                                                                                                                                                                                                                                                                                                                                                                                                                                                                                                                                                                                                                                                                                                                                                                                                                                                                                      1\n",
       "many people who have played massively multiplayer online role-playing games (mmorpgs) like world of warcraft, everquest, and ultima online have reported becoming heavily addicted to them. these players often spend large amounts of time playing the games, sometimes to the detriment of their personal lives and relationships. some people have even died from exhaustion after playing for several days straight without a break.\\n\\nthere are a few reasons why mmorpgs can be so addictive. one reason is that they offer players a sense of progress and accomplishment as they complete quests, gain experience points, and improve their characters' abilities. this can be especially appealing to people who feel stuck or unfulfilled in their real lives.\\n\\nanother reason is that mmorpgs provide players with a social outlet. they allow people to connect with others from all over the world and form friendships based on shared interests. for some people, these online relationships can be just as meaningful as those they have in the real world.\\n\\nhowever, it's important for players to remember that mmorpgs are just games, and that they should not let them consume their entire lives. it's important to balance gaming with other activities, such as exercise, socializing with friends and family, and pursuing hobbies and interests outside of the game.\\n\\nif you or someone you know is struggling with an addiction to mmorpgs, there are resources available to help. there are many support groups and counselors who specialize in treating gaming addiction, and they can provide guidance and support as you work to regain control over your life.      1\n",
       "the text should be classified as \"tech\" since it discusses wireless internet access and related technologies at the british library.                                                                                                                                                                                                                                                                                                                                                                                                                                                                                                                                                                                                                                                                                                                                                                                                                                                                                                                                                                                                                                                                                                                                                                                                                                                                                                                                                                                                                                                                                                                                                                        1\n",
       "sport, tech, business, entertainment, or politics.\\n\\noutput: sport\\n\\nexplanation: the text is classified under \"sport\" because it discusses a handheld console for gaming, specifically the nintendo ds, and its potential impact on the mobile gaming market. while the text does touch upon some technical aspects of the device, the primary focus is on its use in gaming and its potential appeal to different demographics.                                                                                                                                                                                                                                                                                                                                                                                                                                                                                                                                                                                                                                                                                                                                                                                                                                                                                                                                                                                                                                                                                                                                                                                                                                                                         1\n",
       "the text would be classified as \"politics\" since it discusses a decision made by the government, involves a debate between different political figures, and concerns issues of law enforcement and community safety.                                                                                                                                                                                                                                                                                                                                                                                                                                                                                                                                                                                                                                                                                                                                                                                                                                                                                                                                                                                                                                                                                                                                                                                                                                                                                                                                                                                                                                                                                        1\n",
       "the text would be classified as \"business\" because it discusses issues related to employment, pensions, and labor unions in the context of public service work and government policy.                                                                                                                                                                                                                                                                                                                                                                                                                                                                                                                                                                                                                                                                                                                                                                                                                                                                                                                                                                                                                                                                                                                                                                                                                                                                                                                                                                                                                                                                                                                       1\n",
       "the text would be classified as \"politics\" since it discusses a proposal made by the tuc (trades union congress) to change the law regarding the protection of employees who raise health and safety concerns in their workplaces, and calls for action from the government.                                                                                                                                                                                                                                                                                                                                                                                                                                                                                                                                                                                                                                                                                                                                                                                                                                                                                                                                                                                                                                                                                                                                                                                                                                                                                                                                                                                                                                1\n",
       "the text can be classified as \"tech\" because it discusses internet search engines, a technology-related topic.                                                                                                                                                                                                                                                                                                                                                                                                                                                                                                                                                                                                                                                                                                                                                                                                                                                                                                                                                                                                                                                                                                                                                                                                                                                                                                                                                                                                                                                                                                                                                                                              1\n",
       "the text should be classified as \"politics\" since it discusses changes to voting registration in the uk and related issues such as fraud, human rights laws, and the role of local councils.                                                                                                                                                                                                                                                                                                                                                                                                                                                                                                                                                                                                                                                                                                                                                                                                                                                                                                                                                                                                                                                                                                                                                                                                                                                                                                                                                                                                                                                                                                                1\n",
       "sport, tech, business, entertainment, or politics.: entertainment                                                                                                                                                                                                                                                                                                                                                                                                                                                                                                                                                                                                                                                                                                                                                                                                                                                                                                                                                                                                                                                                                                                                                                                                                                                                                                                                                                                                                                                                                                                                                                                                                                           1\n",
       "sport, tech, business, entertainment, or politics.: sport                                                                                                                                                                                                                                                                                                                                                                                                                                                                                                                                                                                                                                                                                                                                                                                                                                                                                                                                                                                                                                                                                                                                                                                                                                                                                                                                                                                                                                                                                                                                                                                                                                                   1\n",
       "the text would be classified under \"tech\" because it discusses issues related to microsoft word, a technology product.                                                                                                                                                                                                                                                                                                                                                                                                                                                                                                                                                                                                                                                                                                                                                                                                                                                                                                                                                                                                                                                                                                                                                                                                                                                                                                                                                                                                                                                                                                                                                                                      1\n",
       "the text should be classified as \"politics\" since it discusses government plans, union strikes, and a private meeting between union figures and a deputy prime minister.                                                                                                                                                                                                                                                                                                                                                                                                                                                                                                                                                                                                                                                                                                                                                                                                                                                                                                                                                                                                                                                                                                                                                                                                                                                                                                                                                                                                                                                                                                                                    1\n",
       "Name: count, dtype: int64"
      ]
     },
     "execution_count": 16,
     "metadata": {},
     "output_type": "execute_result"
    }
   ],
   "source": [
    "combined_df['predicted_category_mixtral'].value_counts()"
   ]
  },
  {
   "cell_type": "code",
   "execution_count": 17,
   "metadata": {},
   "outputs": [],
   "source": [
    "import re\n",
    "\n",
    "def extract_category_after_colon(text):\n",
    "    categories = ['tech', 'sport', 'entertainment', 'business', 'politics']\n",
    "    text = text.replace(\"\\\"\", \"\").replace(\"*\", \"\")\n",
    "    pattern = r':\\s*(\\w+)'\n",
    "    match = re.search(pattern, text)\n",
    "    \n",
    "    if match:\n",
    "        extracted_word = match.group(1).lower()\n",
    "        if extracted_word in categories:\n",
    "            return extracted_word\n",
    "        else: return text\n",
    "    else:\n",
    "        return text"
   ]
  },
  {
   "cell_type": "code",
   "execution_count": 18,
   "metadata": {},
   "outputs": [
    {
     "data": {
      "text/plain": [
       "predicted_category_mixtral\n",
       "sport                                                                                                                                                                                                                                                                                                                                                                                                                                                                                                                                                                                                                                                                                                                                                                                                                                                                                                                                                                                                                                                                                                                                                                                                                                                                                                                                                                                                                                                                                                                                                                                                                                                                                                     134\n",
       "politics                                                                                                                                                                                                                                                                                                                                                                                                                                                                                                                                                                                                                                                                                                                                                                                                                                                                                                                                                                                                                                                                                                                                                                                                                                                                                                                                                                                                                                                                                                                                                                                                                                                                                                   97\n",
       "business                                                                                                                                                                                                                                                                                                                                                                                                                                                                                                                                                                                                                                                                                                                                                                                                                                                                                                                                                                                                                                                                                                                                                                                                                                                                                                                                                                                                                                                                                                                                                                                                                                                                                                   96\n",
       "entertainment                                                                                                                                                                                                                                                                                                                                                                                                                                                                                                                                                                                                                                                                                                                                                                                                                                                                                                                                                                                                                                                                                                                                                                                                                                                                                                                                                                                                                                                                                                                                                                                                                                                                                              81\n",
       "tech                                                                                                                                                                                                                                                                                                                                                                                                                                                                                                                                                                                                                                                                                                                                                                                                                                                                                                                                                                                                                                                                                                                                                                                                                                                                                                                                                                                                                                                                                                                                                                                                                                                                                                       50\n",
       "the text can be classified as politics since it discusses actions taken by the welsh health minister and reactions to those actions from various political figures in wales.                                                                                                                                                                                                                                                                                                                                                                                                                                                                                                                                                                                                                                                                                                                                                                                                                                                                                                                                                                                                                                                                                                                                                                                                                                                                                                                                                                                                                                                                                                                                1\n",
       "the text can be classified as business since it discusses the operations and performance of call centers, including issues related to customer satisfaction, training, and outsourcing.                                                                                                                                                                                                                                                                                                                                                                                                                                                                                                                                                                                                                                                                                                                                                                                                                                                                                                                                                                                                                                                                                                                                                                                                                                                                                                                                                                                                                                                                                                                     1\n",
       "sport\\n\\nexplanation:\\n\\nthe text is classified as sport because none of the other categories (tech, business, entertainment, politics) accurately describe its content. the text discusses ronnie corbett's criticism of modern television programs, but it does not contain any significant information about technology, business, entertainment, or politics. therefore, the most appropriate category for this text is sport. however, since none of the categories fit, it suggests that the prompt may need to be revised to include a catch-all option for miscellaneous topics.                                                                                                                                                                                                                                                                                                                                                                                                                                                                                                                                                                                                                                                                                                                                                                                                                                                                                                                                                                                                                                                                                                                    1\n",
       "the text would be classified as politics because it discusses issues related to international trade policies, subsidies, and their impact on farmers' livelihoods, which are all topics that fall under the political category.                                                                                                                                                                                                                                                                                                                                                                                                                                                                                                                                                                                                                                                                                                                                                                                                                                                                                                                                                                                                                                                                                                                                                                                                                                                                                                                                                                                                                                                                             1\n",
       "the text should be classified as tech and sport. i can provide more information about why it falls into these categories if needed.                                                                                                                                                                                                                                                                                                                                                                                                                                                                                                                                                                                                                                                                                                                                                                                                                                                                                                                                                                                                                                                                                                                                                                                                                                                                                                                                                                                                                                                                                                                                                                         1\n",
       "culture or art, which is a subcategory of entertainment. i chose entertainment because cultural attractions and events are often included in this category, but i understand if someone might argue for arts & culture or another designation.                                                                                                                                                                                                                                                                                                                                                                                                                                                                                                                                                                                                                                                                                                                                                                                                                                                                                                                                                                                                                                                                                                                                                                                                                                                                                                                                                                                                                                                              1\n",
       "the text can be classified as politics since it discusses a policy decision made by the scottish government regarding smoking in public places, and includes statements from politicians and political parties about the issue.                                                                                                                                                                                                                                                                                                                                                                                                                                                                                                                                                                                                                                                                                                                                                                                                                                                                                                                                                                                                                                                                                                                                                                                                                                                                                                                                                                                                                                                                             1\n",
       "the text should be classified as sport.                                                                                                                                                                                                                                                                                                                                                                                                                                                                                                                                                                                                                                                                                                                                                                                                                                                                                                                                                                                                                                                                                                                                                                                                                                                                                                                                                                                                                                                                                                                                                                                                                                                                     1\n",
       "the text would be classified under tech since it discusses software patents, linux, ibm, microsoft, and open-source principles, all of which are technology-related topics.                                                                                                                                                                                                                                                                                                                                                                                                                                                                                                                                                                                                                                                                                                                                                                                                                                                                                                                                                                                                                                                                                                                                                                                                                                                                                                                                                                                                                                                                                                                                 1\n",
       "sport\\n\\nconfidence: 95%                                                                                                                                                                                                                                                                                                                                                                                                                                                                                                                                                                                                                                                                                                                                                                                                                                                                                                                                                                                                                                                                                                                                                                                                                                                                                                                                                                                                                                                                                                                                                                                                                                                                                    1\n",
       "the text should be classified as politics because it involves a legal case related to freedom of the press, which is a political issue.                                                                                                                                                                                                                                                                                                                                                                                                                                                                                                                                                                                                                                                                                                                                                                                                                                                                                                                                                                                                                                                                                                                                                                                                                                                                                                                                                                                                                                                                                                                                                                     1\n",
       "the text should be classified as business. it discusses consumer confidence and economic indicators, which are topics related to business and the economy.                                                                                                                                                                                                                                                                                                                                                                                                                                                                                                                                                                                                                                                                                                                                                                                                                                                                                                                                                                                                                                                                                                                                                                                                                                                                                                                                                                                                                                                                                                                                                  1\n",
       "the text should be classified as tech because it discusses the use of wireless internet and digital technology at the wolong nature reserve in china to aid in panda conservation efforts.                                                                                                                                                                                                                                                                                                                                                                                                                                                                                                                                                                                                                                                                                                                                                                                                                                                                                                                                                                                                                                                                                                                                                                                                                                                                                                                                                                                                                                                                                                                  1\n",
       "the text can be classified as politics because it discusses a report about the government's efforts to improve adult literacy and numeracy skills, including comments from politicians and government officials.                                                                                                                                                                                                                                                                                                                                                                                                                                                                                                                                                                                                                                                                                                                                                                                                                                                                                                                                                                                                                                                                                                                                                                                                                                                                                                                                                                                                                                                                                            1\n",
       "sport\\n\\nthe text is about the competition in the tech industry, specifically between nokia, microsoft, sony ericsson, and motorola, to provide music on handsets and potentially replace mp3 players like the ipod. the text discusses the challenges of delivering music on mobile phones and the potential for mobile phones to become the primary device for music downloading in the future. therefore, the correct category is tech.                                                                                                                                                                                                                                                                                                                                                                                                                                                                                                                                                                                                                                                                                                                                                                                                                                                                                                                                                                                                                                                                                                                                                                                                                                                                  1\n",
       "the text is about the sundance film festival, which is an event in the entertainment industry. therefore, the correct category for this text is entertainment.                                                                                                                                                                                                                                                                                                                                                                                                                                                                                                                                                                                                                                                                                                                                                                                                                                                                                                                                                                                                                                                                                                                                                                                                                                                                                                                                                                                                                                                                                                                                              1\n",
       "the text should be classified as entertainment because it is about the death of jef raskin, who was a significant figure in the creation of the first apple macintosh computer. while technology is certainly discussed, the primary focus of the article is on raskin's life and career, making entertainment the most appropriate category.                                                                                                                                                                                                                                                                                                                                                                                                                                                                                                                                                                                                                                                                                                                                                                                                                                                                                                                                                                                                                                                                                                                                                                                                                                                                                                                                                               1\n",
       "environment                                                                                                                                                                                                                                                                                                                                                                                                                                                                                                                                                                                                                                                                                                                                                                                                                                                                                                                                                                                                                                                                                                                                                                                                                                                                                                                                                                                                                                                                                                                                                                                                                                                                                                 1\n",
       "the text should be classified as business since it discusses an employment issue related to delta airlines, a business organization.                                                                                                                                                                                                                                                                                                                                                                                                                                                                                                                                                                                                                                                                                                                                                                                                                                                                                                                                                                                                                                                                                                                                                                                                                                                                                                                                                                                                                                                                                                                                                                        1\n",
       "sport, tech, entertainment, business                                                                                                                                                                                                                                                                                                                                                                                                                                                                                                                                                                                                                                                                                                                                                                                                                                                                                                                                                                                                                                                                                                                                                                                                                                                                                                                                                                                                                                                                                                                                                                                                                                                                        1\n",
       "sport\\n\\nthe text is about a video game, but it's classified under sport because the game involves shooting and fighting, similar to sports such as boxing or martial arts. the text highlights the game's difficulty level, the variety of weapons available, and the old-school style of gameplay, all of which are common themes in sports games.                                                                                                                                                                                                                                                                                                                                                                                                                                                                                                                                                                                                                                                                                                                                                                                                                                                                                                                                                                                                                                                                                                                                                                                                                                                                                                                                                        1\n",
       "the text would be classified under the category politics as it relates to the appointment of a government official, their role, responsibilities, and background.                                                                                                                                                                                                                                                                                                                                                                                                                                                                                                                                                                                                                                                                                                                                                                                                                                                                                                                                                                                                                                                                                                                                                                                                                                                                                                                                                                                                                                                                                                                                           1\n",
       "many people who have played massively multiplayer online role-playing games (mmorpgs) like world of warcraft, everquest, and ultima online have reported becoming heavily addicted to them. these players often spend large amounts of time playing the games, sometimes to the detriment of their personal lives and relationships. some people have even died from exhaustion after playing for several days straight without a break.\\n\\nthere are a few reasons why mmorpgs can be so addictive. one reason is that they offer players a sense of progress and accomplishment as they complete quests, gain experience points, and improve their characters' abilities. this can be especially appealing to people who feel stuck or unfulfilled in their real lives.\\n\\nanother reason is that mmorpgs provide players with a social outlet. they allow people to connect with others from all over the world and form friendships based on shared interests. for some people, these online relationships can be just as meaningful as those they have in the real world.\\n\\nhowever, it's important for players to remember that mmorpgs are just games, and that they should not let them consume their entire lives. it's important to balance gaming with other activities, such as exercise, socializing with friends and family, and pursuing hobbies and interests outside of the game.\\n\\nif you or someone you know is struggling with an addiction to mmorpgs, there are resources available to help. there are many support groups and counselors who specialize in treating gaming addiction, and they can provide guidance and support as you work to regain control over your life.      1\n",
       "the text would be classified under tech because it discusses issues related to microsoft word, a technology product.                                                                                                                                                                                                                                                                                                                                                                                                                                                                                                                                                                                                                                                                                                                                                                                                                                                                                                                                                                                                                                                                                                                                                                                                                                                                                                                                                                                                                                                                                                                                                                                        1\n",
       "sport, tech, business, entertainment, or politics.\\n\\noutput: the text should be classified as business.                                                                                                                                                                                                                                                                                                                                                                                                                                                                                                                                                                                                                                                                                                                                                                                                                                                                                                                                                                                                                                                                                                                                                                                                                                                                                                                                                                                                                                                                                                                                                                                                    1\n",
       "the text should be classified as business because it discusses a government initiative to boost cocoa production, which is related to agriculture and commerce.                                                                                                                                                                                                                                                                                                                                                                                                                                                                                                                                                                                                                                                                                                                                                                                                                                                                                                                                                                                                                                                                                                                                                                                                                                                                                                                                                                                                                                                                                                                                             1\n",
       "the text should be classified as tech since it discusses pc photo printers and their capabilities, comparing them to professional photo development options.                                                                                                                                                                                                                                                                                                                                                                                                                                                                                                                                                                                                                                                                                                                                                                                                                                                                                                                                                                                                                                                                                                                                                                                                                                                                                                                                                                                                                                                                                                                                                1\n",
       "the text should be classified under business because it discusses the economic impact of natural disasters on asian countries, including reconstruction costs, potential slowdowns in growth, and effects on various industries such as tourism, fishing, and real estate.                                                                                                                                                                                                                                                                                                                                                                                                                                                                                                                                                                                                                                                                                                                                                                                                                                                                                                                                                                                                                                                                                                                                                                                                                                                                                                                                                                                                                                  1\n",
       "the text should be classified as entertainment since it discusses television shows and awards.                                                                                                                                                                                                                                                                                                                                                                                                                                                                                                                                                                                                                                                                                                                                                                                                                                                                                                                                                                                                                                                                                                                                                                                                                                                                                                                                                                                                                                                                                                                                                                                                              1\n",
       "the text should be classified as tech because it discusses the use of credit and debit cards, which are technologies that have revolutionized the way people make purchases.                                                                                                                                                                                                                                                                                                                                                                                                                                                                                                                                                                                                                                                                                                                                                                                                                                                                                                                                                                                                                                                                                                                                                                                                                                                                                                                                                                                                                                                                                                                                1\n",
       "sport, tech, entertainment                                                                                                                                                                                                                                                                                                                                                                                                                                                                                                                                                                                                                                                                                                                                                                                                                                                                                                                                                                                                                                                                                                                                                                                                                                                                                                                                                                                                                                                                                                                                                                                                                                                                                  1\n",
       "sport or entertainment                                                                                                                                                                                                                                                                                                                                                                                                                                                                                                                                                                                                                                                                                                                                                                                                                                                                                                                                                                                                                                                                                                                                                                                                                                                                                                                                                                                                                                                                                                                                                                                                                                                                                      1\n",
       "the text can be classified as tech because it discusses spam traffic and e-mail management.                                                                                                                                                                                                                                                                                                                                                                                                                                                                                                                                                                                                                                                                                                                                                                                                                                                                                                                                                                                                                                                                                                                                                                                                                                                                                                                                                                                                                                                                                                                                                                                                                 1\n",
       "many people have fallen victim to rogue diallers, which are premium rate numbers that connect to the user's computer without their knowledge and run up large bills. this issue has become more common with the rise of illegal music and software download sites. while some people have been able to get their phone companies to refund them, others have not been so lucky. there are steps that users can take to protect themselves, such as using firewall and anti-virus software, and being cautious about the websites they visit. the government has ordered a review of premium rate services and is likely to give icstis, the regulatory body, more power to deal with rogue diallers in the future.                                                                                                                                                                                                                                                                                                                                                                                                                                                                                                                                                                                                                                                                                                                                                                                                                                                                                                                                                                                          1\n",
       "the correct category for this text is entertainment.                                                                                                                                                                                                                                                                                                                                                                                                                                                                                                                                                                                                                                                                                                                                                                                                                                                                                                                                                                                                                                                                                                                                                                                                                                                                                                                                                                                                                                                                                                                                                                                                                                                        1\n",
       "the text should be classified as tech since it discusses wireless internet access and related technologies at the british library.                                                                                                                                                                                                                                                                                                                                                                                                                                                                                                                                                                                                                                                                                                                                                                                                                                                                                                                                                                                                                                                                                                                                                                                                                                                                                                                                                                                                                                                                                                                                                                          1\n",
       "the text would be classified as politics since it discusses a decision made by the government, involves a debate between different political figures, and concerns issues of law enforcement and community safety.                                                                                                                                                                                                                                                                                                                                                                                                                                                                                                                                                                                                                                                                                                                                                                                                                                                                                                                                                                                                                                                                                                                                                                                                                                                                                                                                                                                                                                                                                          1\n",
       "the text would be classified as business because it discusses issues related to employment, pensions, and labor unions in the context of public service work and government policy.                                                                                                                                                                                                                                                                                                                                                                                                                                                                                                                                                                                                                                                                                                                                                                                                                                                                                                                                                                                                                                                                                                                                                                                                                                                                                                                                                                                                                                                                                                                         1\n",
       "the text would be classified as politics since it discusses a proposal made by the tuc (trades union congress) to change the law regarding the protection of employees who raise health and safety concerns in their workplaces, and calls for action from the government.                                                                                                                                                                                                                                                                                                                                                                                                                                                                                                                                                                                                                                                                                                                                                                                                                                                                                                                                                                                                                                                                                                                                                                                                                                                                                                                                                                                                                                  1\n",
       "the text can be classified as tech because it discusses internet search engines, a technology-related topic.                                                                                                                                                                                                                                                                                                                                                                                                                                                                                                                                                                                                                                                                                                                                                                                                                                                                                                                                                                                                                                                                                                                                                                                                                                                                                                                                                                                                                                                                                                                                                                                                1\n",
       "the text should be classified as politics since it discusses changes to voting registration in the uk and related issues such as fraud, human rights laws, and the role of local councils.                                                                                                                                                                                                                                                                                                                                                                                                                                                                                                                                                                                                                                                                                                                                                                                                                                                                                                                                                                                                                                                                                                                                                                                                                                                                                                                                                                                                                                                                                                                  1\n",
       "the text should be classified as politics since it discusses government plans, union strikes, and a private meeting between union figures and a deputy prime minister.                                                                                                                                                                                                                                                                                                                                                                                                                                                                                                                                                                                                                                                                                                                                                                                                                                                                                                                                                                                                                                                                                                                                                                                                                                                                                                                                                                                                                                                                                                                                      1\n",
       "Name: count, dtype: int64"
      ]
     },
     "execution_count": 18,
     "metadata": {},
     "output_type": "execute_result"
    }
   ],
   "source": [
    "combined_df['predicted_category_mixtral'].apply(extract_category_after_colon).str.strip().value_counts()"
   ]
  },
  {
   "cell_type": "code",
   "execution_count": 19,
   "metadata": {},
   "outputs": [
    {
     "data": {
      "text/plain": [
       "predicted_category_mixtral\n",
       "sport                                                                                                                                                                                                                                                                                                                                                                                                                                                                                                                                                                                                                                                                                                                                                                                                                                                                                                                                                                                                                                                                                                                                                                                                                                                                                                                                                                                                                                                                                                                                                                                                                                                                                                     137\n",
       "politics                                                                                                                                                                                                                                                                                                                                                                                                                                                                                                                                                                                                                                                                                                                                                                                                                                                                                                                                                                                                                                                                                                                                                                                                                                                                                                                                                                                                                                                                                                                                                                                                                                                                                                  107\n",
       "business                                                                                                                                                                                                                                                                                                                                                                                                                                                                                                                                                                                                                                                                                                                                                                                                                                                                                                                                                                                                                                                                                                                                                                                                                                                                                                                                                                                                                                                                                                                                                                                                                                                                                                  102\n",
       "entertainment                                                                                                                                                                                                                                                                                                                                                                                                                                                                                                                                                                                                                                                                                                                                                                                                                                                                                                                                                                                                                                                                                                                                                                                                                                                                                                                                                                                                                                                                                                                                                                                                                                                                                              86\n",
       "tech                                                                                                                                                                                                                                                                                                                                                                                                                                                                                                                                                                                                                                                                                                                                                                                                                                                                                                                                                                                                                                                                                                                                                                                                                                                                                                                                                                                                                                                                                                                                                                                                                                                                                                       65\n",
       "many people have fallen victim to rogue diallers, which are premium rate numbers that connect to the user's computer without their knowledge and run up large bills. this issue has become more common with the rise of illegal music and software download sites. while some people have been able to get their phone companies to refund them, others have not been so lucky. there are steps that users can take to protect themselves, such as using firewall and anti-virus software, and being cautious about the websites they visit. the government has ordered a review of premium rate services and is likely to give icstis, the regulatory body, more power to deal with rogue diallers in the future.                                                                                                                                                                                                                                                                                                                                                                                                                                                                                                                                                                                                                                                                                                                                                                                                                                                                                                                                                                                          1\n",
       "many people who have played massively multiplayer online role-playing games (mmorpgs) like world of warcraft, everquest, and ultima online have reported becoming heavily addicted to them. these players often spend large amounts of time playing the games, sometimes to the detriment of their personal lives and relationships. some people have even died from exhaustion after playing for several days straight without a break.\\n\\nthere are a few reasons why mmorpgs can be so addictive. one reason is that they offer players a sense of progress and accomplishment as they complete quests, gain experience points, and improve their characters' abilities. this can be especially appealing to people who feel stuck or unfulfilled in their real lives.\\n\\nanother reason is that mmorpgs provide players with a social outlet. they allow people to connect with others from all over the world and form friendships based on shared interests. for some people, these online relationships can be just as meaningful as those they have in the real world.\\n\\nhowever, it's important for players to remember that mmorpgs are just games, and that they should not let them consume their entire lives. it's important to balance gaming with other activities, such as exercise, socializing with friends and family, and pursuing hobbies and interests outside of the game.\\n\\nif you or someone you know is struggling with an addiction to mmorpgs, there are resources available to help. there are many support groups and counselors who specialize in treating gaming addiction, and they can provide guidance and support as you work to regain control over your life.      1\n",
       "environment                                                                                                                                                                                                                                                                                                                                                                                                                                                                                                                                                                                                                                                                                                                                                                                                                                                                                                                                                                                                                                                                                                                                                                                                                                                                                                                                                                                                                                                                                                                                                                                                                                                                                                 1\n",
       "Name: count, dtype: int64"
      ]
     },
     "execution_count": 19,
     "metadata": {},
     "output_type": "execute_result"
    }
   ],
   "source": [
    "combined_df['predicted_category_mixtral'].apply(extract_category_after_colon).apply(find_first_occurrence).str.strip().value_counts()"
   ]
  },
  {
   "cell_type": "code",
   "execution_count": 20,
   "metadata": {},
   "outputs": [],
   "source": [
    "combined_df['predicted_category_mixtral'] = combined_df['predicted_category_mixtral'].apply(extract_category_after_colon).apply(find_first_occurrence).str.strip()"
   ]
  },
  {
   "cell_type": "code",
   "execution_count": 21,
   "metadata": {},
   "outputs": [
    {
     "name": "stdout",
     "output_type": "stream",
     "text": [
      "['politics' 'sport' 'entertainment' 'tech' 'business'\n",
      " 'this text appears to be a rant or complaint about premium rate phone scams, where individuals are tricked into making expensive calls without realizing it. the author expresses frustration with the phone companies for not doing enough to prevent these scams and for charging customers for fraudulent transactions.\\n\\nthe main points made by the author include:\\n\\n* phone companies should take more responsibility for preventing these scams and refunding customers who have been victimized.\\n* customers need to be more aware of how to avoid falling prey to these scams, such as being cautious when downloading software or clicking on links.\\n* the phone companies are profiteering from these scams by charging customers for fraudulent transactions.\\n* the government should take action to prevent these scams and reimburse victims who have been charged unfairly.\\n\\nthe tone of the text is critical and frustrated, with the author expressing a sense of injustice at being charged for a scam that was not their fault.'\n",
      " \"this text appears to be a collection of articles, blog posts, or personal opinions about the impact of massively multiplayer online role-playing games (mmorpgs) on players' lives. the topics discussed include:\\n\\n1. addiction: many writers describe their own experiences with mmorpg addiction, including spending excessive amounts of time playing and neglecting other aspects of life.\\n2. social implications: some authors argue that mmorpgs can have negative social consequences, such as isolating players from real-life relationships and activities.\\n3. health concerns: a few writers express concern about the potential health risks associated with prolonged screen time and sedentary behavior.\\n4. personal struggles: several individuals share their personal stories of struggling to balance gaming with other aspects of life, including work, relationships, and physical activity.\\n\\nthe tone of the text is generally informal and conversational, with a mix of humor, self-deprecation, and concern. the writers' experiences and opinions are diverse, but they all seem to agree that mmorpgs can be addictive and have significant impacts on players' lives.\"\n",
      " 'environment']\n",
      "['politics' 'sport' 'entertainment' 'tech' 'business'\n",
      " 'i would classify this news article into the category \"gaming addiction\" or \"online gaming concerns\". the article features various personal anecdotes and opinions from individuals who have experienced addiction to online gaming, particularly massively multiplayer online role-playing games (mmorpgs). they share their struggles with balancing gaming time with real-life responsibilities, relationships, and social interactions. some express concerns about the potential negative impacts of excessive gaming on mental and physical health, while others argue that moderation is key and that online gaming can be a harmless recreational activity when done in balance.']\n",
      "['politics' 'sport' 'entertainment' 'business' 'tech'\n",
      " \"many people have fallen victim to rogue diallers, which are premium rate numbers that connect to the user's computer without their knowledge and run up large bills. this issue has become more common with the rise of illegal music and software download sites. while some people have been able to get their phone companies to refund them, others have not been so lucky. there are steps that users can take to protect themselves, such as using firewall and anti-virus software, and being cautious about the websites they visit. the government has ordered a review of premium rate services and is likely to give icstis, the regulatory body, more power to deal with rogue diallers in the future.\"\n",
      " \"many people who have played massively multiplayer online role-playing games (mmorpgs) like world of warcraft, everquest, and ultima online have reported becoming heavily addicted to them. these players often spend large amounts of time playing the games, sometimes to the detriment of their personal lives and relationships. some people have even died from exhaustion after playing for several days straight without a break.\\n\\nthere are a few reasons why mmorpgs can be so addictive. one reason is that they offer players a sense of progress and accomplishment as they complete quests, gain experience points, and improve their characters' abilities. this can be especially appealing to people who feel stuck or unfulfilled in their real lives.\\n\\nanother reason is that mmorpgs provide players with a social outlet. they allow people to connect with others from all over the world and form friendships based on shared interests. for some people, these online relationships can be just as meaningful as those they have in the real world.\\n\\nhowever, it's important for players to remember that mmorpgs are just games, and that they should not let them consume their entire lives. it's important to balance gaming with other activities, such as exercise, socializing with friends and family, and pursuing hobbies and interests outside of the game.\\n\\nif you or someone you know is struggling with an addiction to mmorpgs, there are resources available to help. there are many support groups and counselors who specialize in treating gaming addiction, and they can provide guidance and support as you work to regain control over your life.\"\n",
      " 'environment']\n",
      "['politics' 'business' 'sport' 'entertainment' 'tech' 'health']\n"
     ]
    }
   ],
   "source": [
    "for column in combined_df.columns[2:]:\n",
    "    print(combined_df[column].unique())"
   ]
  },
  {
   "cell_type": "code",
   "execution_count": 22,
   "metadata": {},
   "outputs": [],
   "source": [
    "def process_text(text):\n",
    "    splitted_text = text.lower().split()\n",
    "    if len(splitted_text) > 2:\n",
    "        return \"others\"\n",
    "    elif text not in ['politics', 'sport', 'business', 'entertainment', 'tech']:\n",
    "        return \"others\"\n",
    "    return text"
   ]
  },
  {
   "cell_type": "code",
   "execution_count": 23,
   "metadata": {},
   "outputs": [
    {
     "data": {
      "text/plain": [
       "Index(['category', 'text', 'predicted_category_llama3',\n",
       "       'predicted_category_llama3:70b', 'predicted_category_mixtral',\n",
       "       'predicted_category_gpt-3.5-turbo'],\n",
       "      dtype='object')"
      ]
     },
     "execution_count": 23,
     "metadata": {},
     "output_type": "execute_result"
    }
   ],
   "source": [
    "combined_df.columns"
   ]
  },
  {
   "cell_type": "code",
   "execution_count": 24,
   "metadata": {},
   "outputs": [],
   "source": [
    "combined_df['predicted_category_llama3'] = combined_df['predicted_category_llama3'].apply(process_text)\n",
    "combined_df['predicted_category_llama3:70b'] = combined_df['predicted_category_llama3:70b'].apply(process_text)\n",
    "combined_df['predicted_category_gpt-3.5-turbo'] = combined_df['predicted_category_gpt-3.5-turbo'].apply(process_text)\n",
    "combined_df['predicted_category_mixtral'] = combined_df['predicted_category_mixtral'].apply(process_text)"
   ]
  },
  {
   "cell_type": "code",
   "execution_count": 25,
   "metadata": {},
   "outputs": [
    {
     "name": "stdout",
     "output_type": "stream",
     "text": [
      "['politics' 'sport' 'entertainment' 'tech' 'business' 'others']\n",
      "['politics' 'sport' 'entertainment' 'tech' 'business' 'others']\n",
      "['politics' 'sport' 'entertainment' 'business' 'tech' 'others']\n",
      "['politics' 'business' 'sport' 'entertainment' 'tech' 'others']\n"
     ]
    }
   ],
   "source": [
    "for column in combined_df.columns[2:]:\n",
    "    print(combined_df[column].unique())"
   ]
  },
  {
   "cell_type": "code",
   "execution_count": 26,
   "metadata": {},
   "outputs": [],
   "source": [
    "final_df = combined_df.copy()"
   ]
  },
  {
   "cell_type": "code",
   "execution_count": 27,
   "metadata": {},
   "outputs": [],
   "source": [
    "final_df['predicted_category_llama3'] = final_df['predicted_category_llama3'].str.strip()\n",
    "final_df['predicted_category_llama3:70b'] = final_df['predicted_category_llama3:70b'].str.strip()\n",
    "final_df['predicted_category_mixtral'] = final_df['predicted_category_mixtral'].str.strip()\n",
    "final_df['predicted_category_gpt-3.5-turbo'] = final_df['predicted_category_gpt-3.5-turbo'].str.strip()"
   ]
  },
  {
   "cell_type": "code",
   "execution_count": 28,
   "metadata": {},
   "outputs": [
    {
     "data": {
      "text/plain": [
       "category                            0\n",
       "text                                0\n",
       "predicted_category_llama3           0\n",
       "predicted_category_llama3:70b       0\n",
       "predicted_category_mixtral          0\n",
       "predicted_category_gpt-3.5-turbo    0\n",
       "dtype: int64"
      ]
     },
     "execution_count": 28,
     "metadata": {},
     "output_type": "execute_result"
    }
   ],
   "source": [
    "final_df.isna().sum()"
   ]
  },
  {
   "cell_type": "code",
   "execution_count": 29,
   "metadata": {},
   "outputs": [
    {
     "data": {
      "text/plain": [
       "predicted_category_llama3\n",
       "politics         129\n",
       "sport            112\n",
       "entertainment    107\n",
       "business          98\n",
       "tech              50\n",
       "others             4\n",
       "Name: count, dtype: int64"
      ]
     },
     "execution_count": 29,
     "metadata": {},
     "output_type": "execute_result"
    }
   ],
   "source": [
    "final_df['predicted_category_llama3'].value_counts() "
   ]
  },
  {
   "cell_type": "code",
   "execution_count": 30,
   "metadata": {},
   "outputs": [
    {
     "data": {
      "text/plain": [
       "predicted_category_llama3:70b\n",
       "politics         113\n",
       "sport            112\n",
       "business         110\n",
       "entertainment     95\n",
       "tech              69\n",
       "others             1\n",
       "Name: count, dtype: int64"
      ]
     },
     "execution_count": 30,
     "metadata": {},
     "output_type": "execute_result"
    }
   ],
   "source": [
    "final_df['predicted_category_llama3:70b'].value_counts() "
   ]
  },
  {
   "cell_type": "code",
   "execution_count": 31,
   "metadata": {},
   "outputs": [
    {
     "data": {
      "text/plain": [
       "predicted_category_mixtral\n",
       "sport            137\n",
       "politics         107\n",
       "business         102\n",
       "entertainment     86\n",
       "tech              65\n",
       "others             3\n",
       "Name: count, dtype: int64"
      ]
     },
     "execution_count": 31,
     "metadata": {},
     "output_type": "execute_result"
    }
   ],
   "source": [
    "final_df['predicted_category_mixtral'].value_counts() "
   ]
  },
  {
   "cell_type": "code",
   "execution_count": 32,
   "metadata": {},
   "outputs": [
    {
     "data": {
      "text/plain": [
       "predicted_category_gpt-3.5-turbo\n",
       "business         116\n",
       "sport            111\n",
       "politics         108\n",
       "entertainment     93\n",
       "tech              71\n",
       "others             1\n",
       "Name: count, dtype: int64"
      ]
     },
     "execution_count": 32,
     "metadata": {},
     "output_type": "execute_result"
    }
   ],
   "source": [
    "final_df['predicted_category_gpt-3.5-turbo'].value_counts() "
   ]
  },
  {
   "cell_type": "code",
   "execution_count": 33,
   "metadata": {},
   "outputs": [
    {
     "data": {
      "text/plain": [
       "category\n",
       "business         118\n",
       "sport            108\n",
       "politics         100\n",
       "entertainment     88\n",
       "tech              86\n",
       "Name: count, dtype: int64"
      ]
     },
     "execution_count": 33,
     "metadata": {},
     "output_type": "execute_result"
    }
   ],
   "source": [
    "final_df['category'].value_counts() "
   ]
  },
  {
   "cell_type": "code",
   "execution_count": 34,
   "metadata": {},
   "outputs": [
    {
     "data": {
      "text/html": [
       "<div>\n",
       "<style scoped>\n",
       "    .dataframe tbody tr th:only-of-type {\n",
       "        vertical-align: middle;\n",
       "    }\n",
       "\n",
       "    .dataframe tbody tr th {\n",
       "        vertical-align: top;\n",
       "    }\n",
       "\n",
       "    .dataframe thead th {\n",
       "        text-align: right;\n",
       "    }\n",
       "</style>\n",
       "<table border=\"1\" class=\"dataframe\">\n",
       "  <thead>\n",
       "    <tr style=\"text-align: right;\">\n",
       "      <th></th>\n",
       "      <th>category</th>\n",
       "      <th>text</th>\n",
       "      <th>predicted_category_llama3</th>\n",
       "      <th>predicted_category_llama3:70b</th>\n",
       "      <th>predicted_category_mixtral</th>\n",
       "      <th>predicted_category_gpt-3.5-turbo</th>\n",
       "    </tr>\n",
       "  </thead>\n",
       "  <tbody>\n",
       "    <tr>\n",
       "      <th>0</th>\n",
       "      <td>politics</td>\n",
       "      <td>nhs waiting time target is cut hospital waitin...</td>\n",
       "      <td>politics</td>\n",
       "      <td>politics</td>\n",
       "      <td>politics</td>\n",
       "      <td>politics</td>\n",
       "    </tr>\n",
       "    <tr>\n",
       "      <th>1</th>\n",
       "      <td>politics</td>\n",
       "      <td>crisis  ahead in social sciences  a national b...</td>\n",
       "      <td>politics</td>\n",
       "      <td>politics</td>\n",
       "      <td>politics</td>\n",
       "      <td>business</td>\n",
       "    </tr>\n",
       "    <tr>\n",
       "      <th>2</th>\n",
       "      <td>tech</td>\n",
       "      <td>football manager scores big time for the past ...</td>\n",
       "      <td>sport</td>\n",
       "      <td>sport</td>\n",
       "      <td>sport</td>\n",
       "      <td>sport</td>\n",
       "    </tr>\n",
       "    <tr>\n",
       "      <th>3</th>\n",
       "      <td>politics</td>\n",
       "      <td>uk will stand firm on eu rebate  britain s £3b...</td>\n",
       "      <td>politics</td>\n",
       "      <td>politics</td>\n",
       "      <td>politics</td>\n",
       "      <td>politics</td>\n",
       "    </tr>\n",
       "    <tr>\n",
       "      <th>4</th>\n",
       "      <td>entertainment</td>\n",
       "      <td>greer attacks  bully  big brother germaine gre...</td>\n",
       "      <td>entertainment</td>\n",
       "      <td>entertainment</td>\n",
       "      <td>sport</td>\n",
       "      <td>entertainment</td>\n",
       "    </tr>\n",
       "    <tr>\n",
       "      <th>...</th>\n",
       "      <td>...</td>\n",
       "      <td>...</td>\n",
       "      <td>...</td>\n",
       "      <td>...</td>\n",
       "      <td>...</td>\n",
       "      <td>...</td>\n",
       "    </tr>\n",
       "    <tr>\n",
       "      <th>495</th>\n",
       "      <td>politics</td>\n",
       "      <td>civil servants in strike ballot the uk s bigge...</td>\n",
       "      <td>politics</td>\n",
       "      <td>politics</td>\n",
       "      <td>politics</td>\n",
       "      <td>politics</td>\n",
       "    </tr>\n",
       "    <tr>\n",
       "      <th>496</th>\n",
       "      <td>entertainment</td>\n",
       "      <td>us tv special for tsunami relief a us televisi...</td>\n",
       "      <td>entertainment</td>\n",
       "      <td>entertainment</td>\n",
       "      <td>entertainment</td>\n",
       "      <td>entertainment</td>\n",
       "    </tr>\n",
       "    <tr>\n",
       "      <th>497</th>\n",
       "      <td>politics</td>\n",
       "      <td>guantanamo four free in weeks all four britons...</td>\n",
       "      <td>politics</td>\n",
       "      <td>politics</td>\n",
       "      <td>politics</td>\n",
       "      <td>politics</td>\n",
       "    </tr>\n",
       "    <tr>\n",
       "      <th>498</th>\n",
       "      <td>sport</td>\n",
       "      <td>chepkemei hit by big ban kenya s athletics bod...</td>\n",
       "      <td>sport</td>\n",
       "      <td>sport</td>\n",
       "      <td>sport</td>\n",
       "      <td>sport</td>\n",
       "    </tr>\n",
       "    <tr>\n",
       "      <th>499</th>\n",
       "      <td>tech</td>\n",
       "      <td>eu software patent law faces axe the european ...</td>\n",
       "      <td>politics</td>\n",
       "      <td>tech</td>\n",
       "      <td>tech</td>\n",
       "      <td>tech</td>\n",
       "    </tr>\n",
       "  </tbody>\n",
       "</table>\n",
       "<p>500 rows × 6 columns</p>\n",
       "</div>"
      ],
      "text/plain": [
       "          category                                               text  \\\n",
       "0         politics  nhs waiting time target is cut hospital waitin...   \n",
       "1         politics  crisis  ahead in social sciences  a national b...   \n",
       "2             tech  football manager scores big time for the past ...   \n",
       "3         politics  uk will stand firm on eu rebate  britain s £3b...   \n",
       "4    entertainment  greer attacks  bully  big brother germaine gre...   \n",
       "..             ...                                                ...   \n",
       "495       politics  civil servants in strike ballot the uk s bigge...   \n",
       "496  entertainment  us tv special for tsunami relief a us televisi...   \n",
       "497       politics  guantanamo four free in weeks all four britons...   \n",
       "498          sport  chepkemei hit by big ban kenya s athletics bod...   \n",
       "499           tech  eu software patent law faces axe the european ...   \n",
       "\n",
       "    predicted_category_llama3 predicted_category_llama3:70b  \\\n",
       "0                    politics                      politics   \n",
       "1                    politics                      politics   \n",
       "2                       sport                         sport   \n",
       "3                    politics                      politics   \n",
       "4               entertainment                 entertainment   \n",
       "..                        ...                           ...   \n",
       "495                  politics                      politics   \n",
       "496             entertainment                 entertainment   \n",
       "497                  politics                      politics   \n",
       "498                     sport                         sport   \n",
       "499                  politics                          tech   \n",
       "\n",
       "    predicted_category_mixtral predicted_category_gpt-3.5-turbo  \n",
       "0                     politics                         politics  \n",
       "1                     politics                         business  \n",
       "2                        sport                            sport  \n",
       "3                     politics                         politics  \n",
       "4                        sport                    entertainment  \n",
       "..                         ...                              ...  \n",
       "495                   politics                         politics  \n",
       "496              entertainment                    entertainment  \n",
       "497                   politics                         politics  \n",
       "498                      sport                            sport  \n",
       "499                       tech                             tech  \n",
       "\n",
       "[500 rows x 6 columns]"
      ]
     },
     "execution_count": 34,
     "metadata": {},
     "output_type": "execute_result"
    }
   ],
   "source": [
    "final_df"
   ]
  },
  {
   "cell_type": "markdown",
   "metadata": {},
   "source": [
    "### Final Evaluation\n"
   ]
  },
  {
   "cell_type": "markdown",
   "metadata": {},
   "source": [
    "Multiple models, despite having different architectures, have generated identical outputs, even though the actual ground truth category differs. We will consider a category as correct if several models agree on it, minimizing any potential bias. This consensus category will then be assigned to the `correct_category` column."
   ]
  },
  {
   "cell_type": "code",
   "execution_count": 35,
   "metadata": {},
   "outputs": [],
   "source": [
    "# Apply the function to each row of the DataFrame\n",
    "final_df['correct_category'] = final_df[['category', 'predicted_category_llama3', 'predicted_category_llama3:70b', 'predicted_category_mixtral', 'predicted_category_gpt-3.5-turbo']].apply(get_most_common_word, axis=1)"
   ]
  },
  {
   "cell_type": "code",
   "execution_count": 36,
   "metadata": {},
   "outputs": [
    {
     "data": {
      "text/html": [
       "<div>\n",
       "<style scoped>\n",
       "    .dataframe tbody tr th:only-of-type {\n",
       "        vertical-align: middle;\n",
       "    }\n",
       "\n",
       "    .dataframe tbody tr th {\n",
       "        vertical-align: top;\n",
       "    }\n",
       "\n",
       "    .dataframe thead th {\n",
       "        text-align: right;\n",
       "    }\n",
       "</style>\n",
       "<table border=\"1\" class=\"dataframe\">\n",
       "  <thead>\n",
       "    <tr style=\"text-align: right;\">\n",
       "      <th></th>\n",
       "      <th>category</th>\n",
       "      <th>text</th>\n",
       "      <th>predicted_category_llama3</th>\n",
       "      <th>predicted_category_llama3:70b</th>\n",
       "      <th>predicted_category_mixtral</th>\n",
       "      <th>predicted_category_gpt-3.5-turbo</th>\n",
       "      <th>correct_category</th>\n",
       "    </tr>\n",
       "  </thead>\n",
       "  <tbody>\n",
       "    <tr>\n",
       "      <th>0</th>\n",
       "      <td>politics</td>\n",
       "      <td>nhs waiting time target is cut hospital waitin...</td>\n",
       "      <td>politics</td>\n",
       "      <td>politics</td>\n",
       "      <td>politics</td>\n",
       "      <td>politics</td>\n",
       "      <td>politics</td>\n",
       "    </tr>\n",
       "    <tr>\n",
       "      <th>1</th>\n",
       "      <td>politics</td>\n",
       "      <td>crisis  ahead in social sciences  a national b...</td>\n",
       "      <td>politics</td>\n",
       "      <td>politics</td>\n",
       "      <td>politics</td>\n",
       "      <td>business</td>\n",
       "      <td>politics</td>\n",
       "    </tr>\n",
       "    <tr>\n",
       "      <th>2</th>\n",
       "      <td>tech</td>\n",
       "      <td>football manager scores big time for the past ...</td>\n",
       "      <td>sport</td>\n",
       "      <td>sport</td>\n",
       "      <td>sport</td>\n",
       "      <td>sport</td>\n",
       "      <td>sport</td>\n",
       "    </tr>\n",
       "    <tr>\n",
       "      <th>3</th>\n",
       "      <td>politics</td>\n",
       "      <td>uk will stand firm on eu rebate  britain s £3b...</td>\n",
       "      <td>politics</td>\n",
       "      <td>politics</td>\n",
       "      <td>politics</td>\n",
       "      <td>politics</td>\n",
       "      <td>politics</td>\n",
       "    </tr>\n",
       "    <tr>\n",
       "      <th>4</th>\n",
       "      <td>entertainment</td>\n",
       "      <td>greer attacks  bully  big brother germaine gre...</td>\n",
       "      <td>entertainment</td>\n",
       "      <td>entertainment</td>\n",
       "      <td>sport</td>\n",
       "      <td>entertainment</td>\n",
       "      <td>entertainment</td>\n",
       "    </tr>\n",
       "    <tr>\n",
       "      <th>...</th>\n",
       "      <td>...</td>\n",
       "      <td>...</td>\n",
       "      <td>...</td>\n",
       "      <td>...</td>\n",
       "      <td>...</td>\n",
       "      <td>...</td>\n",
       "      <td>...</td>\n",
       "    </tr>\n",
       "    <tr>\n",
       "      <th>495</th>\n",
       "      <td>politics</td>\n",
       "      <td>civil servants in strike ballot the uk s bigge...</td>\n",
       "      <td>politics</td>\n",
       "      <td>politics</td>\n",
       "      <td>politics</td>\n",
       "      <td>politics</td>\n",
       "      <td>politics</td>\n",
       "    </tr>\n",
       "    <tr>\n",
       "      <th>496</th>\n",
       "      <td>entertainment</td>\n",
       "      <td>us tv special for tsunami relief a us televisi...</td>\n",
       "      <td>entertainment</td>\n",
       "      <td>entertainment</td>\n",
       "      <td>entertainment</td>\n",
       "      <td>entertainment</td>\n",
       "      <td>entertainment</td>\n",
       "    </tr>\n",
       "    <tr>\n",
       "      <th>497</th>\n",
       "      <td>politics</td>\n",
       "      <td>guantanamo four free in weeks all four britons...</td>\n",
       "      <td>politics</td>\n",
       "      <td>politics</td>\n",
       "      <td>politics</td>\n",
       "      <td>politics</td>\n",
       "      <td>politics</td>\n",
       "    </tr>\n",
       "    <tr>\n",
       "      <th>498</th>\n",
       "      <td>sport</td>\n",
       "      <td>chepkemei hit by big ban kenya s athletics bod...</td>\n",
       "      <td>sport</td>\n",
       "      <td>sport</td>\n",
       "      <td>sport</td>\n",
       "      <td>sport</td>\n",
       "      <td>sport</td>\n",
       "    </tr>\n",
       "    <tr>\n",
       "      <th>499</th>\n",
       "      <td>tech</td>\n",
       "      <td>eu software patent law faces axe the european ...</td>\n",
       "      <td>politics</td>\n",
       "      <td>tech</td>\n",
       "      <td>tech</td>\n",
       "      <td>tech</td>\n",
       "      <td>tech</td>\n",
       "    </tr>\n",
       "  </tbody>\n",
       "</table>\n",
       "<p>500 rows × 7 columns</p>\n",
       "</div>"
      ],
      "text/plain": [
       "          category                                               text  \\\n",
       "0         politics  nhs waiting time target is cut hospital waitin...   \n",
       "1         politics  crisis  ahead in social sciences  a national b...   \n",
       "2             tech  football manager scores big time for the past ...   \n",
       "3         politics  uk will stand firm on eu rebate  britain s £3b...   \n",
       "4    entertainment  greer attacks  bully  big brother germaine gre...   \n",
       "..             ...                                                ...   \n",
       "495       politics  civil servants in strike ballot the uk s bigge...   \n",
       "496  entertainment  us tv special for tsunami relief a us televisi...   \n",
       "497       politics  guantanamo four free in weeks all four britons...   \n",
       "498          sport  chepkemei hit by big ban kenya s athletics bod...   \n",
       "499           tech  eu software patent law faces axe the european ...   \n",
       "\n",
       "    predicted_category_llama3 predicted_category_llama3:70b  \\\n",
       "0                    politics                      politics   \n",
       "1                    politics                      politics   \n",
       "2                       sport                         sport   \n",
       "3                    politics                      politics   \n",
       "4               entertainment                 entertainment   \n",
       "..                        ...                           ...   \n",
       "495                  politics                      politics   \n",
       "496             entertainment                 entertainment   \n",
       "497                  politics                      politics   \n",
       "498                     sport                         sport   \n",
       "499                  politics                          tech   \n",
       "\n",
       "    predicted_category_mixtral predicted_category_gpt-3.5-turbo  \\\n",
       "0                     politics                         politics   \n",
       "1                     politics                         business   \n",
       "2                        sport                            sport   \n",
       "3                     politics                         politics   \n",
       "4                        sport                    entertainment   \n",
       "..                         ...                              ...   \n",
       "495                   politics                         politics   \n",
       "496              entertainment                    entertainment   \n",
       "497                   politics                         politics   \n",
       "498                      sport                            sport   \n",
       "499                       tech                             tech   \n",
       "\n",
       "    correct_category  \n",
       "0           politics  \n",
       "1           politics  \n",
       "2              sport  \n",
       "3           politics  \n",
       "4      entertainment  \n",
       "..               ...  \n",
       "495         politics  \n",
       "496    entertainment  \n",
       "497         politics  \n",
       "498            sport  \n",
       "499             tech  \n",
       "\n",
       "[500 rows x 7 columns]"
      ]
     },
     "execution_count": 36,
     "metadata": {},
     "output_type": "execute_result"
    }
   ],
   "source": [
    "final_df"
   ]
  },
  {
   "cell_type": "code",
   "execution_count": 37,
   "metadata": {},
   "outputs": [
    {
     "data": {
      "text/plain": [
       "correct_category\n",
       "sport            112\n",
       "politics         110\n",
       "business         109\n",
       "entertainment     92\n",
       "tech              76\n",
       "others             1\n",
       "Name: count, dtype: int64"
      ]
     },
     "execution_count": 37,
     "metadata": {},
     "output_type": "execute_result"
    }
   ],
   "source": [
    "final_df['correct_category'].value_counts()"
   ]
  },
  {
   "cell_type": "code",
   "execution_count": 38,
   "metadata": {},
   "outputs": [],
   "source": [
    "final_df.to_csv('data/news_category_classification/final_classified_outputs.csv', index=False)"
   ]
  }
 ],
 "metadata": {
  "kernelspec": {
   "display_name": "text-classification-using-llm",
   "language": "python",
   "name": "python3"
  },
  "language_info": {
   "codemirror_mode": {
    "name": "ipython",
    "version": 3
   },
   "file_extension": ".py",
   "mimetype": "text/x-python",
   "name": "python",
   "nbconvert_exporter": "python",
   "pygments_lexer": "ipython3",
   "version": "3.11.9"
  }
 },
 "nbformat": 4,
 "nbformat_minor": 2
}
